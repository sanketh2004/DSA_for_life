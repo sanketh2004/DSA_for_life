{
 "cells": [
  {
   "cell_type": "markdown",
   "id": "57c4196e",
   "metadata": {},
   "source": [
    "128. Longest Consecutive Sequence\n",
    "\n",
    "Given an unsorted array of integers nums, return the length of the longest consecutive elements sequence.\n",
    "\n",
    "You must write an algorithm that runs in O(n) time.\n",
    "\n",
    "Example 1:\n",
    "Input: nums = [100,4,200,1,3,2]\n",
    "Output: 4\n",
    "Explanation: The longest consecutive elements sequence is [1, 2, 3, 4]. Therefore its length is 4.\n",
    "\n",
    "Example 2:\n",
    "Input: nums = [0,3,7,2,5,8,4,6,0,1]\n",
    "Output: 9\n",
    "\n",
    "Example 3:\n",
    "Input: nums = [1,0,1,2]\n",
    "Output: 3"
   ]
  },
  {
   "cell_type": "code",
   "execution_count": null,
   "id": "d02f8ad2",
   "metadata": {},
   "outputs": [
    {
     "name": "stdout",
     "output_type": "stream",
     "text": [
      "6\n"
     ]
    }
   ],
   "source": [
    "#Brute Force\n",
    "nums=[1,4,99,3,98,100,2,102,101,103]\n",
    "l=len(nums)\n",
    "max_count=0\n",
    "for i in range(0,l):\n",
    "    count=1\n",
    "    num=nums[i]\n",
    "    while num+1 in nums:\n",
    "        count+=1\n",
    "        num=num+1\n",
    "        max_count=max(max_count,count)\n",
    "print(max_count)\n",
    "\n"
   ]
  },
  {
   "cell_type": "markdown",
   "id": "f49de0c8",
   "metadata": {},
   "source": [
    "Time Complexity=O(N^2)\n",
    "Space Complexity=O(1)"
   ]
  },
  {
   "cell_type": "code",
   "execution_count": null,
   "id": "946a36c3",
   "metadata": {},
   "outputs": [
    {
     "name": "stdout",
     "output_type": "stream",
     "text": [
      "6\n"
     ]
    }
   ],
   "source": [
    "#Optimal Solution\n",
    "nums=[1,4,99,3,98,100,2,102,101,103]\n",
    "my_set=set()#O(1)\n",
    "for i in range(0,len(nums)):#O(n)\n",
    "    my_set.add(nums[i])\n",
    "max_count=0\n",
    "for num in my_set:#O(n)\n",
    "    if num-1 not in my_set:#O(n)\n",
    "        count=1\n",
    "        \n",
    "        x=num\n",
    "        while x+1 in my_set:#O(n)\n",
    "            count+=1\n",
    "            x+=1\n",
    "            max_count=max(count,max_count)\n",
    "print(max_count)\n",
    "\n"
   ]
  },
  {
   "cell_type": "markdown",
   "id": "08a88d08",
   "metadata": {},
   "source": [
    "Time Complexity=O(N*N*N)\n",
    "Space Complexity=O(N)"
   ]
  }
 ],
 "metadata": {
  "kernelspec": {
   "display_name": "Python 3",
   "language": "python",
   "name": "python3"
  },
  "language_info": {
   "codemirror_mode": {
    "name": "ipython",
    "version": 3
   },
   "file_extension": ".py",
   "mimetype": "text/x-python",
   "name": "python",
   "nbconvert_exporter": "python",
   "pygments_lexer": "ipython3",
   "version": "3.13.5"
  }
 },
 "nbformat": 4,
 "nbformat_minor": 5
}
