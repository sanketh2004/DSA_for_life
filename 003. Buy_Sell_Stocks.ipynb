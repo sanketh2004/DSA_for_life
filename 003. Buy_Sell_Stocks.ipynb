{
 "cells": [
  {
   "cell_type": "code",
   "execution_count": 7,
   "id": "17936e5d",
   "metadata": {},
   "outputs": [
    {
     "name": "stdout",
     "output_type": "stream",
     "text": [
      "7\n"
     ]
    }
   ],
   "source": [
    "#Brute Force\n",
    "arr=[7,2,1,5,6,4,8]\n",
    "maxprofit=0\n",
    "l=len(arr)\n",
    "for i in range(0,l):\n",
    "    for j in range(i+1,l):\n",
    "        profit=arr[j]-arr[i]\n",
    "        maxprofit=max(profit,maxprofit)\n",
    "print(maxprofit)"
   ]
  },
  {
   "cell_type": "markdown",
   "id": "88a3d974",
   "metadata": {},
   "source": [
    "Time Complexity=O(n(n+1)/2)= O(n^2)\n",
    "Space Complexity=O(1)"
   ]
  },
  {
   "cell_type": "code",
   "execution_count": 3,
   "id": "81ca85a2",
   "metadata": {},
   "outputs": [
    {
     "name": "stdout",
     "output_type": "stream",
     "text": [
      "7\n"
     ]
    }
   ],
   "source": [
    "arr=[7,2,1,5,6,4,8]\n",
    "mini=float(\"inf\")\n",
    "maxprofit=0\n",
    "l=len(arr)\n",
    "for i in range(0,l):\n",
    "    if arr[i]<mini:\n",
    "        mini=arr[i]\n",
    "    profit=arr[i]-mini\n",
    "    maxprofit=max(profit,maxprofit)\n",
    "print(maxprofit)\n",
    "\n"
   ]
  },
  {
   "cell_type": "markdown",
   "id": "476c2fa0",
   "metadata": {},
   "source": [
    "Time Complexity=O(n)\n",
    "Space Complexity=O(1)"
   ]
  }
 ],
 "metadata": {
  "kernelspec": {
   "display_name": "Python 3",
   "language": "python",
   "name": "python3"
  },
  "language_info": {
   "codemirror_mode": {
    "name": "ipython",
    "version": 3
   },
   "file_extension": ".py",
   "mimetype": "text/x-python",
   "name": "python",
   "nbconvert_exporter": "python",
   "pygments_lexer": "ipython3",
   "version": "3.13.5"
  }
 },
 "nbformat": 4,
 "nbformat_minor": 5
}
