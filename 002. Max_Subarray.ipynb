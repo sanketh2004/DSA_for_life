{
 "cells": [
  {
   "cell_type": "code",
   "execution_count": null,
   "id": "c95a73d1",
   "metadata": {},
   "outputs": [
    {
     "name": "stdout",
     "output_type": "stream",
     "text": [
      "18\n"
     ]
    }
   ],
   "source": [
    "#Brute Force\n",
    "arr=[-1,2,5,-6,7,3,2,-3,3,5,-3,2]\n",
    "maxi=float(\"-inf\")\n",
    "\n",
    "l=len(arr)\n",
    "for i in range(0,l):\n",
    "    total=0\n",
    "    for j in range(i,l):\n",
    "        total=total+arr[j]\n",
    "        maxi=max(total,maxi)\n",
    "print(maxi)"
   ]
  },
  {
   "cell_type": "markdown",
   "id": "02458afe",
   "metadata": {},
   "source": [
    "Time Complexity=O(n(n+1))/2 == O(n^2)\n",
    "Space Complexity=O(1)"
   ]
  },
  {
   "cell_type": "code",
   "execution_count": 8,
   "id": "d399dc30",
   "metadata": {},
   "outputs": [
    {
     "name": "stdout",
     "output_type": "stream",
     "text": [
      "6\n"
     ]
    }
   ],
   "source": [
    "#Optimal Solution\n",
    "def MaxSubarray(arr):\n",
    "    maxi=float(\"-inf\")\n",
    "    l=len(arr)\n",
    "    total=0\n",
    "    for i in range(0,l):\n",
    "        total=total+arr[i]\n",
    "        maxi=max(total,maxi)\n",
    "        if total<0:\n",
    "            total=0\n",
    "    return maxi\n",
    "poda=[-2,1,-3,4,-1,2,1,-5,4]\n",
    "\n",
    "result=MaxSubarray(poda)\n",
    "print(result)"
   ]
  },
  {
   "cell_type": "markdown",
   "id": "9f71c617",
   "metadata": {},
   "source": [
    "Time Complexity=O(n)\n",
    "Space Complexity=O(1)"
   ]
  }
 ],
 "metadata": {
  "kernelspec": {
   "display_name": "Python 3",
   "language": "python",
   "name": "python3"
  },
  "language_info": {
   "codemirror_mode": {
    "name": "ipython",
    "version": 3
   },
   "file_extension": ".py",
   "mimetype": "text/x-python",
   "name": "python",
   "nbconvert_exporter": "python",
   "pygments_lexer": "ipython3",
   "version": "3.13.5"
  }
 },
 "nbformat": 4,
 "nbformat_minor": 5
}
