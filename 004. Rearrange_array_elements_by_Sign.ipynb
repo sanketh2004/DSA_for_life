{
 "cells": [
  {
   "cell_type": "markdown",
   "id": "71513e97",
   "metadata": {},
   "source": [
    "2149. Rearrange Array Elements by Sign\n",
    "\n",
    "You are given a 0-indexed integer array nums of even length consisting of an equal number of positive and negative integers.\n",
    "\n",
    "You should return the array of nums such that the the array follows the given conditions:\n",
    "\n",
    "1.Every consecutive pair of integers have opposite signs.\n",
    "2.For all integers with the same sign, the order in which they were present in nums is preserved.\n",
    "3.The rearranged array begins with a positive integer.\n",
    "Return the modified array after rearranging the elements to satisfy the aforementioned conditions.\n",
    " \n",
    "Example 1:\n",
    "Input: nums = [3,1,-2,-5,2,-4]\n",
    "Output: [3,-2,1,-5,2,-4]\n",
    "\n",
    "Example 2:\n",
    "Input: nums = [-1,1]\n",
    "Output: [1,-1]"
   ]
  },
  {
   "cell_type": "code",
   "execution_count": null,
   "id": "0a7ff1c0",
   "metadata": {},
   "outputs": [
    {
     "name": "stdout",
     "output_type": "stream",
     "text": [
      "[3, -2, 1, -5, 2, -4]\n"
     ]
    }
   ],
   "source": [
    "#Brute Force\n",
    "nums = [3,1,-2,-5,2,-4]\n",
    "pos=[]#O(N/2)\n",
    "neg=[]#O(N/2)\n",
    "for i in range(0,len(nums)):#O(N)\n",
    "    if nums[i]>0:\n",
    "        pos.append(nums[i])\n",
    "    else:\n",
    "        neg.append(nums[i])\n",
    "for i in range(0,len(pos)):#O(N/2)\n",
    "    nums[2*i]=pos[i]\n",
    "    nums[(2*i)+1]=neg[i]\n",
    "print(nums)\n"
   ]
  },
  {
   "cell_type": "markdown",
   "id": "bab095ec",
   "metadata": {},
   "source": [
    "Time Complexity=O(N+N/2)\n",
    "Space Complexity=O(N)"
   ]
  },
  {
   "cell_type": "code",
   "execution_count": null,
   "id": "4411458f",
   "metadata": {},
   "outputs": [
    {
     "name": "stdout",
     "output_type": "stream",
     "text": [
      "[3, -2, 1, -5, 2, -4]\n"
     ]
    }
   ],
   "source": [
    "#Optimal Solution\n",
    "nums = [3,1,-2,-5,2,-4]\n",
    "n=len(nums)\n",
    "result=[0]*n#O(1)\n",
    "pos_ind,neg_ind=0,1\n",
    "for i in range(0,n):#O(N)\n",
    "    if nums[i]>=0:\n",
    "        result[pos_ind]=nums[i]\n",
    "        pos_ind+=2\n",
    "    else:\n",
    "        result[neg_ind]=nums[i]\n",
    "        neg_ind+=2\n",
    "print(result)"
   ]
  },
  {
   "cell_type": "markdown",
   "id": "6cc6b807",
   "metadata": {},
   "source": [
    "Time Complexity=O(N)\n",
    "Space Complexity=O(1)"
   ]
  }
 ],
 "metadata": {
  "kernelspec": {
   "display_name": "Python 3",
   "language": "python",
   "name": "python3"
  },
  "language_info": {
   "codemirror_mode": {
    "name": "ipython",
    "version": 3
   },
   "file_extension": ".py",
   "mimetype": "text/x-python",
   "name": "python",
   "nbconvert_exporter": "python",
   "pygments_lexer": "ipython3",
   "version": "3.13.5"
  }
 },
 "nbformat": 4,
 "nbformat_minor": 5
}
